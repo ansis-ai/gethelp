{
 "cells": [
  {
   "cell_type": "markdown",
   "metadata": {},
   "source": [
    "# Journey to PW 2.5 ( ipynb )\n",
    "\n",
    "The following are the notes on how to migrate from PerfectWORK 2.0 ( Odoo 11) to 2.5 ( Odoo 12)\n",
    "\n",
    "!!! note\n",
    "\n",
    "    Migration Process must be from one version to next ( 2.0 --> 2.5 )\n",
    "\n",
    "    If you would like to migrate from 2.0 to 3.0. Below are the processes\n",
    "\n",
    "    2.0 ( Odoo 11 ) --> 2.5 ( Odoo 12 ) ---> 3.0  ( Odoo 13 )\n",
    "\n",
    "<br />\n",
    "\n",
    "First get some notes from the "
   ]
  },
  {
   "cell_type": "code",
   "execution_count": 11,
   "metadata": {},
   "outputs": [
    {
     "name": "stdout",
     "output_type": "stream",
     "text": [
      "13.0\n"
     ]
    }
   ],
   "source": [
    "from odooly import Client\n",
    "\n",
    "source_connection = Client(server='https://wms.dev.perfectwork.app', db='wms', user='admin.synercatalyst', password='Wengseng1@')\n",
    "\n",
    "print(source_connection.db.server_version())"
   ]
  }
 ],
 "metadata": {
  "interpreter": {
   "hash": "97d27bc63fe54b02f7245fff8049a674d7530391056dbb72e65a26b980082d54"
  },
  "kernelspec": {
   "display_name": "Python 3.8.12 64-bit ('pw3': conda)",
   "language": "python",
   "name": "python3"
  },
  "language_info": {
   "codemirror_mode": {
    "name": "ipython",
    "version": 3
   },
   "file_extension": ".py",
   "mimetype": "text/x-python",
   "name": "python",
   "nbconvert_exporter": "python",
   "pygments_lexer": "ipython3",
   "version": "3.8.12"
  },
  "orig_nbformat": 4
 },
 "nbformat": 4,
 "nbformat_minor": 2
}
