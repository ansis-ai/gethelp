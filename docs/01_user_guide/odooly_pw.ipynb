{
 "cells": [
  {
   "cell_type": "markdown",
   "metadata": {},
   "source": [
    "This is routine by using Odooly module"
   ]
  },
  {
   "cell_type": "code",
   "execution_count": 11,
   "metadata": {},
   "outputs": [
    {
     "name": "stdout",
     "output_type": "stream",
     "text": [
      "13.0\n"
     ]
    }
   ],
   "source": [
    "from odooly import Client\n",
    "\n",
    "source_connection = Client(server='https://wms.dev.perfectwork.app', db='wms', user='admin.synercatalyst', password='Wengseng1@')\n",
    "\n",
    "print(source_connection.db.server_version())"
   ]
  }
 ],
 "metadata": {
  "interpreter": {
   "hash": "97d27bc63fe54b02f7245fff8049a674d7530391056dbb72e65a26b980082d54"
  },
  "kernelspec": {
   "display_name": "Python 3.8.12 64-bit ('pw3': conda)",
   "language": "python",
   "name": "python3"
  },
  "language_info": {
   "codemirror_mode": {
    "name": "ipython",
    "version": 3
   },
   "file_extension": ".py",
   "mimetype": "text/x-python",
   "name": "python",
   "nbconvert_exporter": "python",
   "pygments_lexer": "ipython3",
   "version": "3.8.12"
  },
  "orig_nbformat": 4
 },
 "nbformat": 4,
 "nbformat_minor": 2
}
